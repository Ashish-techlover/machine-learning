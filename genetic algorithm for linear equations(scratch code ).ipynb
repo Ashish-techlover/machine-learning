{
 "cells": [
  {
   "cell_type": "markdown",
   "metadata": {},
   "source": [
    "# Advantages:"
   ]
  },
  {
   "cell_type": "markdown",
   "metadata": {},
   "source": [
    "# Computationally not intensive\n",
    "There are no linear algebra calculations to be done. The only machine learning calculations necessary are forward passes through the neural networks. Because of this, the system requirements are very broad, as compared to Deep Neural Networks.\n"
   ]
  },
  {
   "cell_type": "markdown",
   "metadata": {},
   "source": [
    "# Adaptable\n",
    "One could adapt and insert many different tests and ways to manipulate the flexible nature of genetic algorithms. One could create a GAN within a Genetic algorithm, by making the agents propagate Generator networks, and the tests being the discriminators. This is a critical benefit, that persuades me that the use of genetic algorithm will be more widespread in the future.\n",
    "\n",
    "\n"
   ]
  },
  {
   "cell_type": "markdown",
   "metadata": {},
   "source": [
    "# Understandable\n",
    "For normal neural networks, the learning patterns of the algorithm are enigmatic at best. For genetic algorithms it is easy to understand why some things come about: For example, when a genetic algorithm is given the Tic-Tac-Toe environment, certain recognizable strategies slowly develop. This is a large benefit, as the use of machine learning is to use technology to help us gain insight on important matters."
   ]
  },
  {
   "cell_type": "markdown",
   "metadata": {},
   "source": [
    "# Disadvantages:"
   ]
  },
  {
   "cell_type": "markdown",
   "metadata": {},
   "source": [
    "# Takes a long period of time\n",
    "Unlucky crossovers and Mutations could result in a negative effect on the program’s accuracy, and therefore make the program slower to converge or reach a certain loss threshold."
   ]
  },
  {
   "cell_type": "markdown",
   "metadata": {},
   "source": [
    "# CODE"
   ]
  },
  {
   "cell_type": "markdown",
   "metadata": {},
   "source": [
    "# Defining required functions"
   ]
  },
  {
   "cell_type": "code",
   "execution_count": 1,
   "metadata": {},
   "outputs": [],
   "source": [
    "#import necessary modules\n",
    "import random\n",
    "import datetime\n",
    "from math import floor\n",
    "geneset=list(range(0,30))#list of whole numbers\n",
    "length=4#length of variables in equation\n",
    "pop_size=6#population size\n",
    "def lin_eqn(value):#function for linear equation-> a+2b+3c+4d=30\n",
    "    a,b,c,d=value\n",
    "    eqn=1*a+2*b+3*c+4*d-30# linear equation\n",
    "    return abs(eqn)\n",
    "def generate_chromosome(length,geneset):\n",
    "    genes=(random.sample(geneset,length))#random.sample() returns list of samples\n",
    "    return genes\n",
    "def generate_population(length,geneset,pop_size):#population generation function\n",
    "    population=[]\n",
    "    for i in range(pop_size):\n",
    "        population.append((generate_chromosome(length,geneset)))#calling generate_chromosome function\n",
    "    return population\n",
    "def evaluate(population):#function to evaluate linear equation for minimisation\n",
    "    solution=[]\n",
    "    for chrom in population:\n",
    "         ###useless condition below it returned none data when solution recieved###\n",
    "        #if lin_eqn(chrom)==0:#if best chromosomes recieved\n",
    "        #    return solution.append((lin_eqn(chrom),chrom))\n",
    "        #else:\n",
    "            solution.append((lin_eqn(chrom),chrom))\n",
    "    return solution\n",
    "def roulette_wheel_selection(solution,population):# function for selecting fittest chromosomes for next mating\n",
    "    fitness=[]\n",
    "    probability=[]\n",
    "    cumulative=[]\n",
    "    random_num=[]\n",
    "    new_chrom=[]\n",
    "    Sum=0\n",
    "    for i in solution:\n",
    "        fitness.append((1/(1+i[0])))#individual solution fitness calculation\n",
    "        total_fitness=sum(fitness)\n",
    "    for j in fitness:\n",
    "        probability.append((j/total_fitness))#probability calculation for selection of fittest\n",
    "    for k in probability:\n",
    "        Sum+=k\n",
    "        cumulative.append(Sum)#cumulative probability\n",
    "        random_num.append(random.random())#generating random numbers between 0-1\n",
    "    for num in random_num:\n",
    "        for c in range(len(cumulative)):\n",
    "            if num<cumulative[c]:#condition for roulette wheel selection\n",
    "                new_chrom.append(population[c])\n",
    "                break\n",
    "    return new_chrom\n",
    "def crossover(new_chrom,cross_rate):#function for crossover of chromosomes\n",
    "    i=0\n",
    "    randn=[]\n",
    "    parent=[]\n",
    "    index=[]\n",
    "    size=int((50*len(new_chrom[0]))/100)#cutting point for crossover\n",
    "    while i<len(new_chrom):\n",
    "        randn.append(random.random())#random number generation between 0-1\n",
    "        if randn[i]<cross_rate:\n",
    "            parent.append(new_chrom[i])#random selection on basis of cross rate\n",
    "        i+=1\n",
    "    for i in range(len(parent)):\n",
    "        for j in range(len(new_chrom)):\n",
    "            if parent[i]==new_chrom[j]:\n",
    "                index.append(j)\n",
    "    for i in range(len(parent)):#loop for crossover process\n",
    "        if i==len(parent)-1:\n",
    "            parent[i]=parent[i][:size]+parent[i-(len(parent)-1)][size:]#crossover first half of one chrom to second half of another chrom\n",
    "        else:\n",
    "            parent[i]=parent[i][:size]+parent[i+1][size:]\n",
    "    for i,j in zip(index,parent):\n",
    "        new_chrom[i]=j\n",
    "    return new_chrom\n",
    "def mutation(new_breed,geneset,rate):#function for mutation process\n",
    "    \n",
    "    actual_index=[]\n",
    "    new_child=[]\n",
    "    total_gen=rate*len(new_breed)*len(new_breed[0])#total number of genes in population\n",
    "    mr=floor(total_gen)#mutation rate for selecting number of mutations\n",
    "    child=random.sample(new_breed,mr)\n",
    "    for chrom in child:\n",
    "        index=random.randrange(0,len(chrom))#randomly chosing index within chromosome range for mutation\n",
    "        child_genes=chrom\n",
    "        mutation_gene,alternate_gene=random.sample(geneset,2)#adding mutation genes in chromosomes\n",
    "        if child_genes[index]==mutation_gene:#if genes are same then select alternate mutaion genes\n",
    "            child_genes[index]=alternate_gene\n",
    "            new_child.append(child_genes)\n",
    "        else:\n",
    "            child_genes[index]=mutation_gene#else select mutation genes\n",
    "            new_child.append(child_genes)\n",
    "    for i in range(len(child)):\n",
    "        for j in range(len(new_breed)):\n",
    "            if child[i]==new_breed[j]:\n",
    "                actual_index.append(j)    \n",
    "    for i,j in zip(actual_index,new_child):\n",
    "        new_breed[i]=j\n",
    "    return new_breed\n",
    "def GetOptimised(geneset,population,evaluate,crossover,cross_rate,mutation,mutation_rate):#function for getting optimised solution set of eqn\n",
    "    startTime = datetime.datetime.now()\n",
    "    optimal_fitness=0\n",
    "    def show(population):\n",
    "        timeDiff = datetime.datetime.now() - startTime\n",
    "        bestfitness=evaluate(population)\n",
    "        bestfitness.sort()#sorting in ascending orer for minimum score\n",
    "        score,chromosome=bestfitness[0]#selecting minimum score and chromosome element\n",
    "        print(\"{0}\\t{1}\\t{2}\".format(chromosome, score, str(timeDiff)))\n",
    "        return score,chromosome\n",
    "    \n",
    "    BestFitness,chromosome=show(population)\n",
    "    if BestFitness==optimal_fitness:\n",
    "        return chromosome\n",
    "    generation=0\n",
    "    while True:\n",
    "        generation+=1\n",
    "        print('generation--> ',generation)\n",
    "        solution=evaluate(population)#evaluating given population\n",
    "        new_chrom=roulette_wheel_selection(solution,population)#selecting desired chromosomes using roulette wheel selection\n",
    "        parent=crossover(new_chrom,cross_rate)# applying crossover\n",
    "        child=mutation(parent,geneset,mutation_rate)#performing mutation\n",
    "        childfitness, chromosome=show(child)#finding best values\n",
    "        if childfitness >= BestFitness:#continue till child fitness is less than best fitness\n",
    "            continue\n",
    "        if childfitness==optimal_fitness: #break loop if best values achieved\n",
    "            break\n",
    "        population=child#assigning new child\n",
    "        BestFitness=childfitness#assigning new fitness\n",
    "    return childfitness ,chromosome#return optimised values"
   ]
  },
  {
   "cell_type": "markdown",
   "metadata": {},
   "source": [
    "# Population generation and GA function calling"
   ]
  },
  {
   "cell_type": "code",
   "execution_count": 8,
   "metadata": {},
   "outputs": [
    {
     "name": "stdout",
     "output_type": "stream",
     "text": [
      "[15, 16, 12, 0]\t53\t0:00:00\n",
      "generation-->  1\n",
      "[15, 16, 12, 0]\t53\t0:00:00\n",
      "generation-->  2\n",
      "[8, 22, 3, 3]\t43\t0:00:00\n",
      "generation-->  3\n",
      "[28, 12, 12, 0]\t58\t0:00:00\n",
      "generation-->  4\n",
      "[8, 22, 3, 3]\t43\t0:00:00.000999\n",
      "generation-->  5\n",
      "[21, 12, 12, 0]\t51\t0:00:00.000999\n",
      "generation-->  6\n",
      "[8, 7, 3, 3]\t13\t0:00:00.000999\n",
      "generation-->  7\n",
      "[8, 15, 3, 3]\t29\t0:00:00.001999\n",
      "generation-->  8\n",
      "[8, 22, 3, 2]\t39\t0:00:00.001999\n",
      "generation-->  9\n",
      "[1, 18, 3, 2]\t24\t0:00:00.001999\n",
      "generation-->  10\n",
      "[3, 22, 3, 2]\t34\t0:00:00.001999\n",
      "generation-->  11\n",
      "[3, 2, 3, 2]\t6\t0:00:00.002999\n",
      "generation-->  12\n",
      "[3, 2, 3, 2]\t6\t0:00:00.002999\n",
      "generation-->  13\n",
      "[13, 16, 3, 2]\t32\t0:00:00.002999\n",
      "generation-->  14\n",
      "[21, 22, 4, 8]\t79\t0:00:00.002999\n",
      "generation-->  15\n",
      "[21, 22, 4, 8]\t79\t0:00:00.003999\n",
      "generation-->  16\n",
      "[21, 3, 4, 8]\t41\t0:00:00.003999\n",
      "generation-->  17\n",
      "[6, 3, 4, 8]\t26\t0:00:00.003999\n",
      "generation-->  18\n",
      "[6, 3, 4, 8]\t26\t0:00:00.003999\n",
      "generation-->  19\n",
      "[6, 3, 4, 8]\t26\t0:00:00.004999\n",
      "generation-->  20\n",
      "[6, 20, 4, 8]\t60\t0:00:00.004999\n",
      "generation-->  21\n",
      "[6, 20, 4, 8]\t60\t0:00:00.004999\n",
      "generation-->  22\n",
      "[27, 20, 4, 8]\t81\t0:00:00.004999\n",
      "generation-->  23\n",
      "[27, 4, 4, 8]\t49\t0:00:00.004999\n",
      "generation-->  24\n",
      "[27, 4, 4, 8]\t49\t0:00:00.006000\n",
      "generation-->  25\n",
      "[27, 4, 7, 8]\t58\t0:00:00.006000\n",
      "generation-->  26\n",
      "[27, 4, 7, 8]\t58\t0:00:00.006000\n",
      "generation-->  27\n",
      "[1, 18, 19, 1]\t68\t0:00:00.006999\n",
      "generation-->  28\n",
      "[1, 18, 19, 1]\t68\t0:00:00.006999\n",
      "generation-->  29\n",
      "[1, 12, 19, 1]\t56\t0:00:00.006999\n",
      "generation-->  30\n",
      "[1, 12, 19, 1]\t56\t0:00:00.006999\n",
      "generation-->  31\n",
      "[1, 12, 19, 1]\t56\t0:00:00.008004\n",
      "generation-->  32\n",
      "[10, 13, 17, 20]\t137\t0:00:00.008004\n",
      "generation-->  33\n",
      "[1, 15, 19, 1]\t62\t0:00:00.009002\n",
      "generation-->  34\n",
      "[1, 15, 19, 1]\t62\t0:00:00.009002\n",
      "generation-->  35\n",
      "[9, 2, 19, 1]\t44\t0:00:00.009999\n",
      "generation-->  36\n",
      "[13, 16, 7, 4]\t52\t0:00:00.009999\n",
      "generation-->  37\n",
      "[1, 5, 19, 1]\t42\t0:00:00.009999\n",
      "generation-->  38\n",
      "[1, 15, 7, 4]\t38\t0:00:00.009999\n",
      "generation-->  39\n",
      "[13, 16, 13, 4]\t70\t0:00:00.010999\n",
      "generation-->  40\n",
      "[1, 15, 16, 8]\t81\t0:00:00.010999\n",
      "generation-->  41\n",
      "[13, 16, 13, 4]\t70\t0:00:00.010999\n",
      "generation-->  42\n",
      "[13, 16, 13, 4]\t70\t0:00:00.011999\n",
      "generation-->  43\n",
      "[16, 15, 5, 28]\t143\t0:00:00.011999\n",
      "generation-->  44\n",
      "[13, 16, 13, 4]\t70\t0:00:00.011999\n",
      "generation-->  45\n",
      "[13, 16, 13, 4]\t70\t0:00:00.011999\n",
      "generation-->  46\n",
      "[13, 16, 19, 4]\t88\t0:00:00.012999\n",
      "generation-->  47\n",
      "[13, 14, 19, 4]\t84\t0:00:00.012999\n",
      "generation-->  48\n",
      "[13, 14, 19, 4]\t84\t0:00:00.012999\n",
      "generation-->  49\n",
      "[1, 14, 19, 4]\t72\t0:00:00.013999\n",
      "generation-->  50\n",
      "[16, 15, 22, 11]\t126\t0:00:00.013999\n",
      "generation-->  51\n",
      "[1, 14, 2, 8]\t37\t0:00:00.014998\n",
      "generation-->  52\n",
      "[1, 14, 2, 8]\t37\t0:00:00.014998\n",
      "generation-->  53\n",
      "[13, 14, 2, 8]\t49\t0:00:00.014998\n",
      "generation-->  54\n",
      "[13, 14, 2, 8]\t49\t0:00:00.015999\n",
      "generation-->  55\n",
      "[13, 14, 2, 8]\t49\t0:00:00.015999\n",
      "generation-->  56\n",
      "[4, 15, 4, 12]\t64\t0:00:00.015999\n",
      "generation-->  57\n",
      "[26, 29, 9, 7]\t109\t0:00:00.015999\n",
      "generation-->  58\n",
      "[4, 10, 4, 12]\t54\t0:00:00.016998\n",
      "generation-->  59\n",
      "[4, 25, 10, 12]\t102\t0:00:00.016998\n",
      "generation-->  60\n",
      "[13, 16, 2, 24]\t117\t0:00:00.016998\n",
      "generation-->  61\n",
      "[3, 29, 9, 7]\t86\t0:00:00.016998\n",
      "generation-->  62\n",
      "[3, 29, 14, 7]\t101\t0:00:00.017998\n",
      "generation-->  63\n",
      "[3, 25, 14, 7]\t93\t0:00:00.017998\n",
      "generation-->  64\n",
      "[3, 25, 9, 7]\t78\t0:00:00.017998\n",
      "generation-->  65\n",
      "[3, 25, 3, 7]\t60\t0:00:00.017998\n",
      "generation-->  66\n",
      "[3, 25, 3, 7]\t60\t0:00:00.018998\n",
      "generation-->  67\n",
      "[12, 16, 2, 19]\t96\t0:00:00.018998\n",
      "generation-->  68\n",
      "[3, 1, 23, 7]\t72\t0:00:00.018998\n",
      "generation-->  69\n",
      "[3, 1, 23, 7]\t72\t0:00:00.019998\n",
      "generation-->  70\n",
      "[4, 25, 2, 19]\t106\t0:00:00.019998\n",
      "generation-->  71\n",
      "[3, 14, 23, 7]\t98\t0:00:00.019998\n",
      "generation-->  72\n",
      "[3, 14, 23, 7]\t98\t0:00:00.019998\n",
      "generation-->  73\n",
      "[4, 9, 10, 17]\t90\t0:00:00.020998\n",
      "generation-->  74\n",
      "[3, 14, 23, 7]\t98\t0:00:00.020998\n",
      "generation-->  75\n",
      "[3, 14, 28, 7]\t113\t0:00:00.020998\n",
      "generation-->  76\n",
      "[3, 14, 28, 7]\t113\t0:00:00.020998\n",
      "generation-->  77\n",
      "[3, 14, 28, 7]\t113\t0:00:00.021998\n",
      "generation-->  78\n",
      "[4, 27, 10, 1]\t62\t0:00:00.021998\n",
      "generation-->  79\n",
      "[4, 27, 10, 1]\t62\t0:00:00.021998\n",
      "generation-->  80\n",
      "[4, 24, 10, 8]\t84\t0:00:00.021998\n",
      "generation-->  81\n",
      "[3, 12, 10, 15]\t87\t0:00:00.022998\n",
      "generation-->  82\n",
      "[13, 23, 4, 7]\t69\t0:00:00.022998\n",
      "generation-->  83\n",
      "[13, 23, 29, 1]\t120\t0:00:00.022998\n",
      "generation-->  84\n",
      "[21, 23, 7, 1]\t62\t0:00:00.022998\n",
      "generation-->  85\n",
      "[21, 23, 7, 1]\t62\t0:00:00.023999\n",
      "generation-->  86\n",
      "[4, 11, 7, 1]\t21\t0:00:00.023999\n",
      "generation-->  87\n",
      "[21, 23, 7, 1]\t62\t0:00:00.023999\n",
      "generation-->  88\n",
      "[21, 2, 7, 1]\t20\t0:00:00.023999\n",
      "generation-->  89\n",
      "[4, 17, 10, 8]\t70\t0:00:00.024998\n",
      "generation-->  90\n",
      "[21, 17, 12, 1]\t65\t0:00:00.024998\n",
      "generation-->  91\n",
      "[21, 13, 12, 1]\t57\t0:00:00.024998\n",
      "generation-->  92\n",
      "[18, 17, 10, 8]\t84\t0:00:00.024998\n",
      "generation-->  93\n",
      "[18, 17, 10, 12]\t100\t0:00:00.025997\n",
      "generation-->  94\n",
      "[21, 13, 10, 5]\t67\t0:00:00.025997\n",
      "generation-->  95\n",
      "[18, 17, 10, 12]\t100\t0:00:00.025997\n",
      "generation-->  96\n",
      "[3, 15, 21, 7]\t94\t0:00:00.025997\n",
      "generation-->  97\n",
      "[18, 17, 10, 10]\t92\t0:00:00.026997\n",
      "generation-->  98\n",
      "[27, 23, 10, 13]\t125\t0:00:00.026997\n",
      "generation-->  99\n",
      "[18, 17, 0, 12]\t70\t0:00:00.026997\n",
      "generation-->  100\n",
      "[18, 17, 4, 12]\t82\t0:00:00.026997\n",
      "generation-->  101\n",
      "[15, 17, 4, 12]\t79\t0:00:00.026997\n",
      "generation-->  102\n",
      "[27, 23, 4, 13]\t107\t0:00:00.027997\n",
      "generation-->  103\n",
      "[15, 17, 4, 12]\t79\t0:00:00.027997\n",
      "generation-->  104\n",
      "[27, 21, 2, 13]\t97\t0:00:00.027997\n",
      "generation-->  105\n",
      "[27, 21, 2, 1]\t49\t0:00:00.027997\n",
      "generation-->  106\n",
      "[27, 21, 2, 1]\t49\t0:00:00.028998\n",
      "generation-->  107\n",
      "[2, 21, 2, 13]\t72\t0:00:00.028998\n",
      "generation-->  108\n",
      "[2, 21, 2, 13]\t72\t0:00:00.028998\n",
      "generation-->  109\n",
      "[2, 21, 2, 13]\t72\t0:00:00.028998\n",
      "generation-->  110\n",
      "[3, 6, 0, 10]\t25\t0:00:00.029998\n",
      "generation-->  111\n",
      "[3, 6, 5, 13]\t52\t0:00:00.029998\n",
      "generation-->  112\n",
      "[3, 6, 0, 10]\t25\t0:00:00.029998\n",
      "generation-->  113\n",
      "[3, 27, 0, 10]\t67\t0:00:00.029998\n",
      "generation-->  114\n",
      "[3, 27, 0, 10]\t67\t0:00:00.031022\n",
      "generation-->  115\n",
      "[3, 27, 1, 10]\t70\t0:00:00.031022\n",
      "generation-->  116\n",
      "[3, 27, 5, 10]\t82\t0:00:00.031022\n",
      "generation-->  117\n",
      "[12, 21, 10, 8]\t86\t0:00:00.031022\n",
      "generation-->  118\n",
      "[12, 21, 9, 8]\t83\t0:00:00.031996\n",
      "generation-->  119\n",
      "[15, 14, 12, 5]\t69\t0:00:00.031996\n",
      "generation-->  120\n",
      "[3, 27, 5, 10]\t82\t0:00:00.031996\n",
      "generation-->  121\n",
      "[12, 21, 9, 8]\t83\t0:00:00.031996\n",
      "generation-->  122\n",
      "[12, 21, 9, 8]\t83\t0:00:00.033019\n",
      "generation-->  123\n",
      "[14, 2, 12, 5]\t44\t0:00:00.033019\n",
      "generation-->  124\n",
      "[15, 13, 5, 11]\t70\t0:00:00.033019\n",
      "generation-->  125\n",
      "[14, 2, 0, 15]\t48\t0:00:00.033999\n",
      "generation-->  126\n",
      "[14, 2, 0, 24]\t84\t0:00:00.033999\n",
      "generation-->  127\n",
      "[10, 2, 0, 24]\t80\t0:00:00.033999\n",
      "generation-->  128\n",
      "[14, 2, 0, 7]\t16\t0:00:00.033999\n",
      "generation-->  129\n",
      "[14, 2, 12, 7]\t52\t0:00:00.034998\n",
      "generation-->  130\n",
      "[14, 2, 12, 7]\t52\t0:00:00.034998\n",
      "generation-->  131\n",
      "[14, 17, 12, 1]\t58\t0:00:00.034998\n",
      "generation-->  132\n",
      "[14, 17, 7, 1]\t43\t0:00:00.034998\n",
      "generation-->  133\n",
      "[14, 17, 12, 1]\t58\t0:00:00.035998\n",
      "generation-->  134\n",
      "[14, 16, 12, 1]\t56\t0:00:00.035998\n",
      "generation-->  135\n",
      "[14, 16, 12, 1]\t56\t0:00:00.035998\n",
      "generation-->  136\n",
      "[3, 26, 5, 2]\t48\t0:00:00.035998\n",
      "generation-->  137\n",
      "[3, 5, 23, 3]\t64\t0:00:00.036999\n",
      "generation-->  138\n",
      "[3, 26, 5, 2]\t48\t0:00:00.036999\n",
      "generation-->  139\n",
      "[3, 26, 5, 3]\t52\t0:00:00.036999\n",
      "generation-->  140\n",
      "[3, 5, 7, 12]\t52\t0:00:00.036999\n",
      "generation-->  141\n",
      "[3, 5, 4, 16]\t59\t0:00:00.037999\n",
      "generation-->  142\n",
      "[3, 5, 4, 16]\t59\t0:00:00.037999\n",
      "generation-->  143\n",
      "[16, 5, 4, 16]\t72\t0:00:00.037999\n",
      "generation-->  144\n",
      "[16, 5, 17, 9]\t83\t0:00:00.037999\n",
      "generation-->  145\n",
      "[24, 26, 5, 8]\t93\t0:00:00.037999\n",
      "generation-->  146\n",
      "[16, 5, 23, 10]\t105\t0:00:00.038997\n",
      "generation-->  147\n",
      "[15, 5, 23, 10]\t104\t0:00:00.038997\n",
      "generation-->  148\n",
      "[16, 29, 2, 8]\t82\t0:00:00.038997\n",
      "generation-->  149\n",
      "[23, 0, 2, 8]\t31\t0:00:00.038997\n",
      "generation-->  150\n",
      "[7, 0, 15, 8]\t54\t0:00:00.039996\n",
      "generation-->  151\n",
      "[7, 0, 15, 8]\t54\t0:00:00.039996\n",
      "generation-->  152\n",
      "[7, 0, 15, 8]\t54\t0:00:00.039996\n",
      "generation-->  153\n",
      "[7, 0, 15, 8]\t54\t0:00:00.040997\n",
      "generation-->  154\n",
      "[27, 0, 15, 8]\t74\t0:00:00.042999\n",
      "generation-->  155\n",
      "[11, 19, 5, 8]\t66\t0:00:00.042999\n",
      "generation-->  156\n",
      "[11, 19, 5, 8]\t66\t0:00:00.042999\n",
      "generation-->  157\n",
      "[11, 19, 5, 8]\t66\t0:00:00.044003\n",
      "generation-->  158\n",
      "[5, 3, 15, 12]\t74\t0:00:00.051000\n",
      "generation-->  159\n",
      "[18, 5, 15, 12]\t91\t0:00:00.051999\n",
      "generation-->  160\n",
      "[11, 22, 15, 12]\t118\t0:00:00.053998\n",
      "generation-->  161\n",
      "[11, 22, 15, 3]\t82\t0:00:00.053998\n",
      "generation-->  162\n",
      "[11, 22, 15, 3]\t82\t0:00:00.053998\n",
      "generation-->  163\n",
      "[16, 22, 15, 3]\t87\t0:00:00.055009\n",
      "generation-->  164\n",
      "[28, 19, 21, 8]\t131\t0:00:00.055009\n",
      "generation-->  165\n",
      "[3, 22, 7, 25]\t138\t0:00:00.055009\n",
      "generation-->  166\n",
      "[8, 13, 29, 1]\t95\t0:00:00.055009\n",
      "generation-->  167\n",
      "[28, 7, 21, 8]\t107\t0:00:00.055997\n",
      "generation-->  168\n",
      "[8, 10, 29, 1]\t89\t0:00:00.055997\n",
      "generation-->  169\n",
      "[8, 4, 29, 1]\t77\t0:00:00.055997\n",
      "generation-->  170\n",
      "[8, 4, 3, 1]\t1\t0:00:00.056999\n",
      "generation-->  171\n",
      "[8, 4, 3, 1]\t1\t0:00:00.057997\n",
      "generation-->  172\n",
      "[8, 14, 21, 1]\t73\t0:00:00.057997\n",
      "generation-->  173\n",
      "[8, 14, 7, 4]\t43\t0:00:00.057997\n",
      "generation-->  174\n",
      "[27, 12, 7, 4]\t58\t0:00:00.058998\n",
      "generation-->  175\n",
      "[22, 7, 7, 4]\t43\t0:00:00.058998\n",
      "generation-->  176\n",
      "[22, 7, 0, 25]\t106\t0:00:00.058998\n",
      "generation-->  177\n",
      "[16, 7, 0, 25]\t100\t0:00:00.059996\n",
      "generation-->  178\n",
      "[16, 7, 0, 8]\t32\t0:00:00.059996\n",
      "generation-->  179\n",
      "[16, 7, 0, 8]\t32\t0:00:00.059996\n",
      "generation-->  180\n",
      "[21, 7, 0, 29]\t121\t0:00:00.059996\n",
      "generation-->  181\n",
      "[21, 7, 7, 16]\t90\t0:00:00.059996\n",
      "generation-->  182\n",
      "[14, 7, 7, 10]\t59\t0:00:00.061014\n",
      "generation-->  183\n",
      "[21, 7, 0, 20]\t85\t0:00:00.061014\n",
      "generation-->  184\n",
      "[14, 7, 7, 10]\t59\t0:00:00.061014\n",
      "generation-->  185\n",
      "[25, 7, 2, 20]\t95\t0:00:00.061014\n",
      "generation-->  186\n",
      "[13, 7, 2, 20]\t83\t0:00:00.061995\n",
      "generation-->  187\n",
      "[14, 7, 0, 25]\t98\t0:00:00.061995\n",
      "generation-->  188\n",
      "[14, 7, 0, 25]\t98\t0:00:00.061995\n",
      "generation-->  189\n",
      "[14, 6, 18, 25]\t150\t0:00:00.061995\n",
      "generation-->  190\n",
      "[25, 10, 2, 20]\t101\t0:00:00.061995\n",
      "generation-->  191\n",
      "[28, 5, 1, 24]\t107\t0:00:00.061995\n",
      "generation-->  192\n",
      "[25, 10, 16, 24]\t159\t0:00:00.062997\n",
      "generation-->  193\n",
      "[14, 23, 18, 1]\t88\t0:00:00.062997\n",
      "generation-->  194\n",
      "[14, 23, 18, 1]\t88\t0:00:00.062997\n",
      "generation-->  195\n",
      "[14, 22, 18, 1]\t86\t0:00:00.062997\n",
      "generation-->  196\n",
      "[14, 22, 26, 1]\t110\t0:00:00.062997\n",
      "generation-->  197\n",
      "[14, 22, 14, 1]\t74\t0:00:00.063997\n",
      "generation-->  198\n",
      "[14, 22, 14, 1]\t74\t0:00:00.063997\n",
      "generation-->  199\n",
      "[14, 22, 25, 1]\t107\t0:00:00.063997\n",
      "generation-->  200\n",
      "[11, 1, 16, 20]\t111\t0:00:00.063997\n",
      "generation-->  201\n",
      "[14, 22, 6, 5]\t66\t0:00:00.063997\n",
      "generation-->  202\n",
      "[14, 22, 6, 5]\t66\t0:00:00.063997\n",
      "generation-->  203\n",
      "[14, 22, 6, 5]\t66\t0:00:00.065025\n",
      "generation-->  204\n",
      "[7, 22, 6, 5]\t59\t0:00:00.065025\n",
      "generation-->  205\n",
      "[7, 22, 28, 3]\t117\t0:00:00.065025\n",
      "generation-->  206\n",
      "[7, 22, 18, 3]\t87\t0:00:00.065025\n",
      "generation-->  207\n",
      "[4, 1, 16, 20]\t104\t0:00:00.065025\n",
      "generation-->  208\n",
      "[4, 1, 28, 3]\t72\t0:00:00.065025\n",
      "generation-->  209\n",
      "[4, 1, 16, 21]\t108\t0:00:00.065025\n",
      "generation-->  210\n",
      "[4, 1, 16, 21]\t108\t0:00:00.066028\n",
      "generation-->  211\n",
      "[4, 1, 16, 21]\t108\t0:00:00.066028\n",
      "generation-->  212\n",
      "[4, 1, 16, 21]\t108\t0:00:00.066028\n",
      "generation-->  213\n",
      "[4, 1, 16, 2]\t32\t0:00:00.066028\n",
      "generation-->  214\n",
      "[8, 1, 16, 2]\t36\t0:00:00.066028\n",
      "generation-->  215\n",
      "[8, 1, 16, 2]\t36\t0:00:00.066028\n",
      "generation-->  216\n",
      "[20, 1, 14, 10]\t74\t0:00:00.083994\n",
      "generation-->  217\n",
      "[0, 6, 7, 10]\t43\t0:00:00.083994\n",
      "generation-->  218\n",
      "[0, 25, 7, 2]\t49\t0:00:00.083994\n",
      "generation-->  219\n",
      "[0, 25, 7, 2]\t49\t0:00:00.084995\n",
      "generation-->  220\n",
      "[0, 22, 7, 2]\t43\t0:00:00.084995\n",
      "generation-->  221\n",
      "[20, 25, 6, 2]\t66\t0:00:00.084995\n",
      "generation-->  222\n",
      "[27, 22, 7, 6]\t86\t0:00:00.084995\n",
      "generation-->  223\n",
      "[27, 22, 7, 6]\t86\t0:00:00.084995\n",
      "generation-->  224\n",
      "[27, 22, 7, 6]\t86\t0:00:00.085993\n",
      "generation-->  225\n",
      "[20, 18, 7, 6]\t71\t0:00:00.085993\n",
      "generation-->  226\n",
      "[28, 23, 14, 10]\t126\t0:00:00.085993\n",
      "generation-->  227\n",
      "[6, 22, 7, 6]\t65\t0:00:00.085993\n",
      "generation-->  228\n",
      "[6, 22, 7, 6]\t65\t0:00:00.085993\n",
      "generation-->  229\n",
      "[6, 22, 7, 6]\t65\t0:00:00.086993\n",
      "generation-->  230\n",
      "[12, 8, 10, 9]\t64\t0:00:00.086993\n",
      "generation-->  231\n",
      "[8, 13, 7, 6]\t49\t0:00:00.086993\n",
      "generation-->  232\n",
      "[12, 8, 10, 14]\t84\t0:00:00.086993\n",
      "generation-->  233\n",
      "[8, 10, 14, 10]\t80\t0:00:00.086993\n",
      "generation-->  234\n",
      "[1, 22, 6, 1]\t37\t0:00:00.087993\n",
      "generation-->  235\n",
      "[8, 10, 14, 10]\t80\t0:00:00.087993\n",
      "generation-->  236\n",
      "[8, 8, 14, 10]\t76\t0:00:00.087993\n",
      "generation-->  237\n",
      "[8, 7, 11, 10]\t65\t0:00:00.087993\n",
      "generation-->  238\n",
      "[7, 7, 11, 10]\t64\t0:00:00.087993\n",
      "generation-->  239\n",
      "[12, 8, 10, 14]\t84\t0:00:00.088993\n",
      "generation-->  240\n",
      "[7, 7, 29, 10]\t118\t0:00:00.088993\n",
      "generation-->  241\n",
      "[7, 13, 29, 10]\t130\t0:00:00.088993\n",
      "generation-->  242\n",
      "[27, 7, 28, 7]\t123\t0:00:00.088993\n",
      "generation-->  243\n",
      "[17, 7, 29, 10]\t128\t0:00:00.089995\n",
      "generation-->  244\n",
      "[17, 7, 14, 10]\t83\t0:00:00.089995\n",
      "generation-->  245\n",
      "[17, 2, 14, 10]\t73\t0:00:00.089995\n",
      "generation-->  246\n",
      "[21, 2, 14, 10]\t77\t0:00:00.089995\n",
      "generation-->  247\n",
      "[21, 2, 14, 10]\t77\t0:00:00.090993\n",
      "generation-->  248\n",
      "[27, 22, 14, 10]\t123\t0:00:00.090993\n",
      "generation-->  249\n",
      "[26, 2, 24, 10]\t112\t0:00:00.090993\n",
      "generation-->  250\n",
      "[26, 2, 3, 10]\t49\t0:00:00.090993\n",
      "generation-->  251\n",
      "[26, 2, 3, 10]\t49\t0:00:00.090993\n",
      "generation-->  252\n",
      "[19, 15, 10, 14]\t105\t0:00:00.090993\n",
      "generation-->  253\n",
      "[26, 2, 3, 10]\t49\t0:00:00.091993\n",
      "generation-->  254\n",
      "[10, 2, 3, 7]\t21\t0:00:00.091993\n",
      "generation-->  255\n",
      "[10, 1, 10, 9]\t48\t0:00:00.091993\n",
      "generation-->  256\n",
      "[8, 1, 3, 25]\t89\t0:00:00.091993\n",
      "generation-->  257\n",
      "[8, 1, 3, 15]\t49\t0:00:00.091993\n",
      "generation-->  258\n",
      "[8, 1, 3, 1]\t7\t0:00:00.091993\n",
      "generation-->  259\n",
      "[8, 1, 3, 1]\t7\t0:00:00.092993\n",
      "generation-->  260\n",
      "[8, 1, 3, 1]\t7\t0:00:00.092993\n",
      "generation-->  261\n",
      "[17, 2, 12, 3]\t39\t0:00:00.092993\n",
      "generation-->  262\n",
      "[17, 2, 12, 3]\t39\t0:00:00.092993\n",
      "generation-->  263\n",
      "[9, 2, 12, 13]\t71\t0:00:00.092993\n",
      "generation-->  264\n",
      "[9, 2, 12, 13]\t71\t0:00:00.093993\n",
      "generation-->  265\n",
      "[8, 19, 25, 1]\t95\t0:00:00.093993\n",
      "generation-->  266\n",
      "[8, 19, 25, 1]\t95\t0:00:00.093993\n",
      "generation-->  267\n",
      "[8, 19, 10, 22]\t134\t0:00:00.093993\n",
      "generation-->  268\n",
      "[20, 13, 10, 22]\t134\t0:00:00.093993\n",
      "generation-->  269\n",
      "[20, 28, 10, 13]\t128\t0:00:00.093993\n",
      "generation-->  270\n",
      "[20, 28, 10, 13]\t128\t0:00:00.093993\n",
      "generation-->  271\n",
      "[28, 28, 16, 10]\t142\t0:00:00.094993\n",
      "generation-->  272\n",
      "[8, 22, 0, 26]\t126\t0:00:00.094993\n",
      "generation-->  273\n",
      "[28, 26, 16, 4]\t114\t0:00:00.094993\n",
      "generation-->  274\n",
      "[28, 26, 17, 4]\t117\t0:00:00.094993\n",
      "generation-->  275\n",
      "[8, 22, 0, 28]\t134\t0:00:00.094993\n",
      "generation-->  276\n",
      "[8, 22, 0, 11]\t66\t0:00:00.094993\n",
      "generation-->  277\n",
      "[8, 22, 0, 11]\t66\t0:00:00.095993\n",
      "generation-->  278\n",
      "[8, 22, 0, 11]\t66\t0:00:00.095993\n",
      "generation-->  279\n",
      "[9, 3, 12, 27]\t129\t0:00:00.095993\n",
      "generation-->  280\n",
      "[9, 3, 12, 27]\t129\t0:00:00.095993\n",
      "generation-->  281\n",
      "[8, 20, 3, 11]\t71\t0:00:00.095993\n",
      "generation-->  282\n",
      "[8, 20, 3, 24]\t123\t0:00:00.095993\n",
      "generation-->  283\n",
      "[9, 20, 3, 24]\t124\t0:00:00.096993\n",
      "generation-->  284\n",
      "[9, 20, 3, 24]\t124\t0:00:00.096993\n",
      "generation-->  285\n",
      "[28, 8, 3, 18]\t95\t0:00:00.096993\n",
      "generation-->  286\n",
      "[9, 20, 3, 5]\t48\t0:00:00.096993\n",
      "generation-->  287\n",
      "[9, 20, 3, 5]\t48\t0:00:00.096993\n",
      "generation-->  288\n",
      "[5, 20, 3, 5]\t44\t0:00:00.096993\n",
      "generation-->  289\n",
      "[9, 20, 3, 12]\t76\t0:00:00.096993\n",
      "generation-->  290\n",
      "[9, 20, 25, 8]\t126\t0:00:00.097993\n",
      "generation-->  291\n",
      "[13, 19, 6, 18]\t111\t0:00:00.097993\n",
      "generation-->  292\n",
      "[13, 19, 6, 13]\t91\t0:00:00.097993\n",
      "generation-->  293\n",
      "[4, 9, 25, 8]\t99\t0:00:00.097993\n",
      "generation-->  294\n",
      "[9, 20, 25, 8]\t126\t0:00:00.097993\n",
      "generation-->  295\n",
      "[9, 20, 25, 6]\t118\t0:00:00.097993\n",
      "generation-->  296\n",
      "[17, 8, 10, 18]\t105\t0:00:00.098992\n",
      "generation-->  297\n",
      "[17, 8, 1, 18]\t78\t0:00:00.098992\n",
      "generation-->  298\n",
      "[17, 8, 22, 3]\t81\t0:00:00.098992\n",
      "generation-->  299\n",
      "[17, 8, 1, 18]\t78\t0:00:00.098992\n",
      "generation-->  300\n",
      "[9, 1, 25, 3]\t68\t0:00:00.098992\n",
      "generation-->  301\n",
      "[9, 1, 25, 3]\t68\t0:00:00.099993\n",
      "generation-->  302\n",
      "[9, 1, 25, 2]\t64\t0:00:00.099993\n",
      "generation-->  303\n",
      "[9, 1, 25, 2]\t64\t0:00:00.099993\n",
      "generation-->  304\n",
      "[9, 1, 6, 2]\t7\t0:00:00.099993\n",
      "generation-->  305\n",
      "[9, 1, 6, 2]\t7\t0:00:00.099993\n",
      "generation-->  306\n",
      "[9, 1, 6, 2]\t7\t0:00:00.099993\n",
      "generation-->  307\n",
      "[20, 1, 15, 2]\t45\t0:00:00.100993\n",
      "generation-->  308\n",
      "[20, 1, 15, 9]\t73\t0:00:00.100993\n",
      "generation-->  309\n",
      "[20, 1, 15, 9]\t73\t0:00:00.100993\n",
      "generation-->  310\n",
      "[15, 6, 1, 18]\t72\t0:00:00.100993\n",
      "generation-->  311\n",
      "[2, 10, 1, 18]\t67\t0:00:00.100993\n",
      "generation-->  312\n",
      "[15, 8, 1, 18]\t76\t0:00:00.100993\n",
      "generation-->  313\n",
      "[20, 8, 1, 6]\t33\t0:00:00.100993\n",
      "generation-->  314\n",
      "[4, 3, 1, 6]\t7\t0:00:00.101992\n",
      "generation-->  315\n",
      "[4, 3, 1, 8]\t15\t0:00:00.101992\n",
      "generation-->  316\n",
      "[4, 3, 1, 8]\t15\t0:00:00.101992\n",
      "generation-->  317\n",
      "[10, 10, 16, 14]\t104\t0:00:00.101992\n",
      "generation-->  318\n",
      "[10, 10, 16, 14]\t104\t0:00:00.101992\n",
      "generation-->  319\n",
      "[18, 3, 18, 9]\t84\t0:00:00.101992\n",
      "generation-->  320\n",
      "[16, 3, 18, 9]\t82\t0:00:00.102992\n",
      "generation-->  321\n",
      "[10, 17, 4, 14]\t82\t0:00:00.102992\n",
      "generation-->  322\n",
      "[10, 20, 4, 3]\t44\t0:00:00.102992\n",
      "generation-->  323\n",
      "[16, 3, 4, 3]\t16\t0:00:00.102992\n",
      "generation-->  324\n",
      "[10, 6, 4, 3]\t16\t0:00:00.102992\n",
      "generation-->  325\n",
      "[10, 6, 4, 3]\t16\t0:00:00.102992\n",
      "generation-->  326\n",
      "[10, 6, 4, 3]\t16\t0:00:00.103992\n",
      "generation-->  327\n",
      "[16, 29, 4, 3]\t68\t0:00:00.103992\n",
      "generation-->  328\n",
      "[4, 13, 13, 7]\t67\t0:00:00.103992\n",
      "generation-->  329\n",
      "[16, 29, 4, 3]\t68\t0:00:00.103992\n",
      "generation-->  330\n",
      "[16, 29, 2, 3]\t62\t0:00:00.103992\n",
      "generation-->  331\n",
      "[16, 5, 2, 3]\t14\t0:00:00.103992\n",
      "generation-->  332\n",
      "[16, 5, 2, 3]\t14\t0:00:00.104992\n",
      "generation-->  333\n",
      "[25, 5, 2, 3]\t23\t0:00:00.104992\n",
      "generation-->  334\n",
      "[6, 3, 2, 13]\t40\t0:00:00.104992\n",
      "generation-->  335\n",
      "[4, 9, 12, 28]\t140\t0:00:00.104992\n",
      "generation-->  336\n",
      "[26, 3, 2, 13]\t60\t0:00:00.104992\n",
      "generation-->  337\n",
      "[26, 3, 15, 13]\t99\t0:00:00.105993\n",
      "generation-->  338\n",
      "[26, 3, 15, 13]\t99\t0:00:00.105993\n",
      "generation-->  339\n",
      "[26, 3, 15, 13]\t99\t0:00:00.105993\n",
      "generation-->  340\n",
      "[26, 3, 15, 17]\t115\t0:00:00.105993\n",
      "generation-->  341\n",
      "[26, 3, 15, 17]\t115\t0:00:00.105993\n",
      "generation-->  342\n",
      "[9, 27, 15, 17]\t146\t0:00:00.105993\n",
      "generation-->  343\n",
      "[14, 17, 12, 13]\t106\t0:00:00.106992\n",
      "generation-->  344\n",
      "[11, 17, 12, 13]\t103\t0:00:00.106992\n",
      "generation-->  345\n",
      "[26, 27, 3, 17]\t127\t0:00:00.106992\n",
      "generation-->  346\n",
      "[11, 3, 12, 13]\t75\t0:00:00.106992\n",
      "generation-->  347\n",
      "[15, 17, 12, 13]\t107\t0:00:00.106992\n",
      "generation-->  348\n",
      "[15, 17, 12, 4]\t71\t0:00:00.107992\n",
      "generation-->  349\n",
      "[26, 27, 3, 2]\t67\t0:00:00.107992\n",
      "generation-->  350\n",
      "[4, 12, 3, 2]\t15\t0:00:00.107992\n",
      "generation-->  351\n",
      "[26, 0, 3, 12]\t53\t0:00:00.107992\n",
      "generation-->  352\n",
      "[7, 17, 3, 12]\t68\t0:00:00.108992\n",
      "generation-->  353\n",
      "[19, 1, 4, 13]\t55\t0:00:00.108992\n",
      "generation-->  354\n",
      "[7, 17, 3, 12]\t68\t0:00:00.108992\n",
      "generation-->  355\n",
      "[25, 0, 12, 13]\t83\t0:00:00.108992\n",
      "generation-->  356\n",
      "[4, 12, 12, 13]\t86\t0:00:00.109992\n",
      "generation-->  357\n",
      "[9, 5, 21, 12]\t100\t0:00:00.109992\n",
      "generation-->  358\n",
      "[9, 5, 21, 16]\t116\t0:00:00.109992\n",
      "generation-->  359\n",
      "[4, 12, 16, 15]\t106\t0:00:00.109992\n",
      "generation-->  360\n",
      "[4, 12, 16, 15]\t106\t0:00:00.109992\n",
      "generation-->  361\n",
      "[25, 19, 12, 0]\t69\t0:00:00.110992\n",
      "generation-->  362\n",
      "[9, 12, 12, 0]\t39\t0:00:00.110992\n",
      "generation-->  363\n",
      "[25, 2, 12, 0]\t35\t0:00:00.110992\n",
      "generation-->  364\n",
      "[11, 12, 16, 15]\t113\t0:00:00.110992\n",
      "generation-->  365\n",
      "[11, 12, 4, 15]\t77\t0:00:00.110992\n",
      "generation-->  366\n",
      "[11, 12, 16, 15]\t113\t0:00:00.110992\n",
      "generation-->  367\n",
      "[11, 3, 16, 15]\t95\t0:00:00.111992\n",
      "generation-->  368\n",
      "[11, 3, 16, 15]\t95\t0:00:00.111992\n",
      "generation-->  369\n",
      "[11, 3, 21, 16]\t114\t0:00:00.111992\n",
      "generation-->  370\n",
      "[0, 3, 16, 15]\t84\t0:00:00.111992\n",
      "generation-->  371\n",
      "[11, 3, 21, 1]\t54\t0:00:00.111992\n",
      "generation-->  372\n",
      "[11, 3, 16, 10]\t75\t0:00:00.112991\n",
      "generation-->  373\n",
      "[29, 0, 21, 14]\t118\t0:00:00.112991\n",
      "generation-->  374\n",
      "[17, 3, 16, 4]\t57\t0:00:00.112991\n",
      "generation-->  375\n",
      "[17, 3, 16, 4]\t57\t0:00:00.112991\n",
      "generation-->  376\n",
      "[17, 3, 16, 4]\t57\t0:00:00.112991\n",
      "generation-->  377\n",
      "[5, 6, 11, 29]\t136\t0:00:00.112991\n",
      "generation-->  378\n",
      "[17, 6, 16, 23]\t139\t0:00:00.113991\n",
      "generation-->  379\n",
      "[29, 10, 21, 14]\t138\t0:00:00.113991\n",
      "generation-->  380\n",
      "[17, 6, 16, 25]\t147\t0:00:00.113991\n",
      "generation-->  381\n",
      "[17, 6, 16, 3]\t59\t0:00:00.113991\n",
      "generation-->  382\n",
      "[17, 6, 16, 20]\t127\t0:00:00.113991\n",
      "generation-->  383\n",
      "[13, 6, 16, 20]\t123\t0:00:00.200987\n",
      "generation-->  384\n",
      "[13, 10, 21, 16]\t130\t0:00:00.200987\n",
      "generation-->  385\n",
      "[13, 10, 21, 16]\t130\t0:00:00.200987\n",
      "generation-->  386\n",
      "[13, 10, 21, 16]\t130\t0:00:00.200987\n",
      "generation-->  387\n",
      "[13, 10, 13, 16]\t106\t0:00:00.200987\n",
      "generation-->  388\n",
      "[22, 6, 16, 20]\t132\t0:00:00.201986\n",
      "generation-->  389\n",
      "[22, 2, 16, 20]\t124\t0:00:00.201986\n",
      "generation-->  390\n",
      "[13, 10, 16, 20]\t131\t0:00:00.201986\n",
      "generation-->  391\n",
      "[13, 10, 2, 22]\t97\t0:00:00.201986\n",
      "generation-->  392\n",
      "[3, 20, 0, 20]\t93\t0:00:00.201986\n",
      "generation-->  393\n",
      "[13, 0, 18, 11]\t81\t0:00:00.202986\n",
      "generation-->  394\n",
      "[2, 20, 0, 20]\t92\t0:00:00.202986\n",
      "generation-->  395\n",
      "[2, 20, 0, 20]\t92\t0:00:00.202986\n",
      "generation-->  396\n",
      "[2, 3, 0, 20]\t58\t0:00:00.202986\n",
      "generation-->  397\n",
      "[2, 3, 0, 14]\t34\t0:00:00.202986\n",
      "generation-->  398\n",
      "[3, 3, 0, 20]\t59\t0:00:00.203986\n",
      "generation-->  399\n",
      "[3, 3, 29, 11]\t110\t0:00:00.203986\n",
      "generation-->  400\n",
      "[13, 0, 29, 4]\t86\t0:00:00.203986\n",
      "generation-->  401\n",
      "[13, 0, 15, 4]\t44\t0:00:00.203986\n",
      "generation-->  402\n",
      "[3, 3, 3, 3]\t0\t0:00:00.203986\n",
      "############# successfuly found solution ##############\n",
      "fitness value is 0 and values for variables a,b,c,d are [3, 3, 3, 3]\n"
     ]
    }
   ],
   "source": [
    "mutation_rate=0.09\n",
    "cross_rate=0.25\n",
    "population=generate_population(length,geneset,pop_size)\n",
    "fun_value,variables=GetOptimised(geneset,population,evaluate,crossover,cross_rate,mutation,mutation_rate)\n",
    "print(\"############# successfuly found solution ##############\")\n",
    "print(\"fitness value is {} and values for variables a,b,c,d are {}\".format(fun_value,variables))"
   ]
  },
  {
   "cell_type": "code",
   "execution_count": 9,
   "metadata": {},
   "outputs": [
    {
     "data": {
      "text/plain": [
       "0"
      ]
     },
     "execution_count": 9,
     "metadata": {},
     "output_type": "execute_result"
    }
   ],
   "source": [
    "value=lin_eqn(variables)\n",
    "value"
   ]
  },
  {
   "cell_type": "code",
   "execution_count": null,
   "metadata": {},
   "outputs": [],
   "source": []
  },
  {
   "cell_type": "markdown",
   "metadata": {},
   "source": [
    "# Rough work"
   ]
  },
  {
   "cell_type": "code",
   "execution_count": 47,
   "metadata": {},
   "outputs": [
    {
     "name": "stdout",
     "output_type": "stream",
     "text": [
      "[18, 29, 12, 24]\n",
      "[25, 26, 27, 7]\n",
      "[8, 13, 28, 18]\n",
      "[10, 24, 12, 21]\n",
      "[3, 22, 25, 23]\n",
      "[16, 13, 24, 25]\n"
     ]
    }
   ],
   "source": [
    "for i in g:\n",
    "    print(i)"
   ]
  },
  {
   "cell_type": "code",
   "execution_count": 105,
   "metadata": {},
   "outputs": [
    {
     "data": {
      "text/plain": [
       "2"
      ]
     },
     "execution_count": 105,
     "metadata": {},
     "output_type": "execute_result"
    }
   ],
   "source": [
    "int((50*len(g[0]))/100)#cutting point"
   ]
  },
  {
   "cell_type": "code",
   "execution_count": 107,
   "metadata": {},
   "outputs": [
    {
     "data": {
      "text/plain": [
       "97"
      ]
     },
     "execution_count": 107,
     "metadata": {},
     "output_type": "execute_result"
    }
   ],
   "source": [
    "lin_eqn(g[0])"
   ]
  },
  {
   "cell_type": "code",
   "execution_count": 88,
   "metadata": {},
   "outputs": [
    {
     "data": {
      "text/plain": [
       "[0.1254, 0.271, 0.41180000000000005, 0.6639, 0.7882, 1.0]"
      ]
     },
     "execution_count": 88,
     "metadata": {},
     "output_type": "execute_result"
    }
   ],
   "source": [
    "probability=[0.1254,0.1456,0.1408,0.2521,0.1243,0.2118]\n",
    "Sum=0\n",
    "cumulative=[]\n",
    "random_num=[]\n",
    "for k in probability:\n",
    "        Sum+=k\n",
    "        cumulative.append(Sum)\n",
    "        random_num.append(random.random())\n",
    "cumulative"
   ]
  },
  {
   "cell_type": "code",
   "execution_count": 89,
   "metadata": {},
   "outputs": [
    {
     "data": {
      "text/plain": [
       "[0.31206930809528555,\n",
       " 0.6160998958501109,\n",
       " 0.19354852081652008,\n",
       " 0.4673418458719564,\n",
       " 0.06638673433616826,\n",
       " 0.08998453720297583]"
      ]
     },
     "execution_count": 89,
     "metadata": {},
     "output_type": "execute_result"
    }
   ],
   "source": [
    "random_num"
   ]
  },
  {
   "cell_type": "code",
   "execution_count": 90,
   "metadata": {},
   "outputs": [
    {
     "name": "stdout",
     "output_type": "stream",
     "text": [
      "0.31206930809528555\n",
      "0.6160998958501109\n",
      "0.19354852081652008\n",
      "0.4673418458719564\n",
      "0.06638673433616826\n",
      "0.08998453720297583\n"
     ]
    }
   ],
   "source": [
    "for i in random_num:\n",
    "    print(i)"
   ]
  },
  {
   "cell_type": "code",
   "execution_count": 93,
   "metadata": {},
   "outputs": [
    {
     "data": {
      "text/plain": [
       "[0.1254, 0.271, 0.41180000000000005, 0.6639, 0.7882, 1.0]"
      ]
     },
     "execution_count": 93,
     "metadata": {},
     "output_type": "execute_result"
    }
   ],
   "source": [
    "[0.1254, 0.271, 0.41180000000000005, 0.6639, 0.7882, 1.0]"
   ]
  },
  {
   "cell_type": "code",
   "execution_count": 91,
   "metadata": {},
   "outputs": [
    {
     "data": {
      "text/plain": [
       "[[5, 2, 18, 16],\n",
       " [0, 2, 29, 16],\n",
       " [18, 9, 3, 25],\n",
       " [29, 22, 18, 19],\n",
       " [29, 3, 5, 1],\n",
       " [25, 16, 5, 29]]"
      ]
     },
     "execution_count": 91,
     "metadata": {},
     "output_type": "execute_result"
    }
   ],
   "source": [
    "g=generate_population(4,geneset,6)\n",
    "g"
   ]
  },
  {
   "cell_type": "code",
   "execution_count": 111,
   "metadata": {},
   "outputs": [
    {
     "data": {
      "text/plain": [
       "[25, 16]"
      ]
     },
     "execution_count": 111,
     "metadata": {},
     "output_type": "execute_result"
    }
   ],
   "source": [
    "g[5][:2]"
   ]
  },
  {
   "cell_type": "code",
   "execution_count": 98,
   "metadata": {},
   "outputs": [
    {
     "data": {
      "text/plain": [
       "[[18, 9, 3, 25],\n",
       " [29, 22, 18, 19],\n",
       " [0, 2, 29, 16],\n",
       " [29, 22, 18, 19],\n",
       " [5, 2, 18, 16],\n",
       " [5, 2, 18, 16]]"
      ]
     },
     "execution_count": 98,
     "metadata": {},
     "output_type": "execute_result"
    }
   ],
   "source": [
    "new=[]\n",
    "for i in random_num:\n",
    "    for j in range(len(cumulative)):\n",
    "        if i<cumulative[j]:\n",
    "            new.append(g[j])\n",
    "            break\n",
    "new            "
   ]
  },
  {
   "cell_type": "code",
   "execution_count": 67,
   "metadata": {},
   "outputs": [
    {
     "data": {
      "text/plain": [
       "5"
      ]
     },
     "execution_count": 67,
     "metadata": {},
     "output_type": "execute_result"
    }
   ],
   "source": [
    "len(new)"
   ]
  },
  {
   "cell_type": "code",
   "execution_count": 5,
   "metadata": {},
   "outputs": [
    {
     "data": {
      "text/plain": [
       "([7, 9, 1, 5], 4)"
      ]
     },
     "execution_count": 5,
     "metadata": {},
     "output_type": "execute_result"
    }
   ],
   "source": [
    "genes=(random.sample(geneset,4))\n",
    "genes,len(genes)"
   ]
  },
  {
   "cell_type": "code",
   "execution_count": 21,
   "metadata": {},
   "outputs": [
    {
     "data": {
      "text/plain": [
       "[7, 3, 8, 5, 0, 9, 6, 4]"
      ]
     },
     "execution_count": 21,
     "metadata": {},
     "output_type": "execute_result"
    }
   ],
   "source": [
    "import random\n",
    "def generate_chromosome(length,geneset):\n",
    "    genes=(random.sample(geneset,length))#random.sample() returns list of samples\n",
    "    return genes\n",
    "generate_chromosome(8,geneset)"
   ]
  },
  {
   "cell_type": "code",
   "execution_count": 51,
   "metadata": {},
   "outputs": [
    {
     "data": {
      "text/plain": [
       "([0, 1, 2, 3, 4], 10)"
      ]
     },
     "execution_count": 51,
     "metadata": {},
     "output_type": "execute_result"
    }
   ],
   "source": [
    "list(range(0,5)),sum(list(range(0,5)))"
   ]
  },
  {
   "cell_type": "code",
   "execution_count": 52,
   "metadata": {},
   "outputs": [
    {
     "data": {
      "text/plain": [
       "14"
      ]
     },
     "execution_count": 52,
     "metadata": {},
     "output_type": "execute_result"
    }
   ],
   "source": [
    "a=[2,3,4,5]\n",
    "sum(a)"
   ]
  },
  {
   "cell_type": "code",
   "execution_count": 79,
   "metadata": {},
   "outputs": [],
   "source": [
    "a=[1,2,3,4]\n",
    "a.append(3)"
   ]
  },
  {
   "cell_type": "code",
   "execution_count": 80,
   "metadata": {},
   "outputs": [
    {
     "data": {
      "text/plain": [
       "[1, 2, 3, 4, 3]"
      ]
     },
     "execution_count": 80,
     "metadata": {},
     "output_type": "execute_result"
    }
   ],
   "source": [
    "a"
   ]
  },
  {
   "cell_type": "code",
   "execution_count": 48,
   "metadata": {},
   "outputs": [],
   "source": [
    "a=[(1,3),(2,4),(8,9),(0,3),(9,7)]"
   ]
  },
  {
   "cell_type": "code",
   "execution_count": 53,
   "metadata": {},
   "outputs": [
    {
     "data": {
      "text/plain": [
       "[(0, 3), (1, 3), (2, 4), (8, 9), (9, 7)]"
      ]
     },
     "execution_count": 53,
     "metadata": {},
     "output_type": "execute_result"
    }
   ],
   "source": [
    "q=a\n",
    "q.sort()\n",
    "q"
   ]
  },
  {
   "cell_type": "code",
   "execution_count": 49,
   "metadata": {},
   "outputs": [
    {
     "data": {
      "text/plain": [
       "([[(1, 3), (2, 4), (8, 9), (0, 3), (9, 7)]],\n",
       " [(1, 3), (2, 4), (8, 9), (0, 3), (9, 7)])"
      ]
     },
     "execution_count": 49,
     "metadata": {},
     "output_type": "execute_result"
    }
   ],
   "source": [
    "x=[]\n",
    "x.append(a)\n",
    "x,x[0]"
   ]
  },
  {
   "cell_type": "code",
   "execution_count": 50,
   "metadata": {},
   "outputs": [
    {
     "data": {
      "text/plain": [
       "[(1, 3), (2, 4), (8, 9), (0, 3), (9, 7)]"
      ]
     },
     "execution_count": 50,
     "metadata": {},
     "output_type": "execute_result"
    }
   ],
   "source": [
    "z=x[0]\n",
    "z"
   ]
  },
  {
   "cell_type": "code",
   "execution_count": 51,
   "metadata": {},
   "outputs": [
    {
     "data": {
      "text/plain": [
       "[(0, 3), (1, 3), (2, 4), (8, 9), (9, 7)]"
      ]
     },
     "execution_count": 51,
     "metadata": {},
     "output_type": "execute_result"
    }
   ],
   "source": [
    "z.sort()\n",
    "z"
   ]
  },
  {
   "cell_type": "code",
   "execution_count": 52,
   "metadata": {},
   "outputs": [
    {
     "data": {
      "text/plain": [
       "(0, 3)"
      ]
     },
     "execution_count": 52,
     "metadata": {},
     "output_type": "execute_result"
    }
   ],
   "source": [
    "z[0]"
   ]
  },
  {
   "cell_type": "code",
   "execution_count": 47,
   "metadata": {},
   "outputs": [
    {
     "data": {
      "text/plain": [
       "(0, 3)"
      ]
     },
     "execution_count": 47,
     "metadata": {},
     "output_type": "execute_result"
    }
   ],
   "source": [
    "x[0].sort()\n",
    "x[0][0]"
   ]
  },
  {
   "cell_type": "code",
   "execution_count": 37,
   "metadata": {},
   "outputs": [
    {
     "data": {
      "text/plain": [
       "(0, 3)"
      ]
     },
     "execution_count": 37,
     "metadata": {},
     "output_type": "execute_result"
    }
   ],
   "source": []
  },
  {
   "cell_type": "code",
   "execution_count": 7,
   "metadata": {},
   "outputs": [],
   "source": [
    "s,d=a[0]"
   ]
  },
  {
   "cell_type": "code",
   "execution_count": 8,
   "metadata": {},
   "outputs": [
    {
     "data": {
      "text/plain": [
       "(1, 3)"
      ]
     },
     "execution_count": 8,
     "metadata": {},
     "output_type": "execute_result"
    }
   ],
   "source": [
    "s,d"
   ]
  },
  {
   "cell_type": "code",
   "execution_count": 19,
   "metadata": {},
   "outputs": [
    {
     "data": {
      "text/plain": [
       "(0, 3)"
      ]
     },
     "execution_count": 19,
     "metadata": {},
     "output_type": "execute_result"
    }
   ],
   "source": [
    "a.sort()\n",
    "a[0]"
   ]
  },
  {
   "cell_type": "code",
   "execution_count": 9,
   "metadata": {},
   "outputs": [
    {
     "name": "stdout",
     "output_type": "stream",
     "text": [
      "(1, 3)\n",
      "(2, 4)\n",
      "(8, 9)\n",
      "(0, 3)\n",
      "(9, 7)\n"
     ]
    },
    {
     "data": {
      "text/plain": [
       "[1, 2, 8, 0, 9]"
      ]
     },
     "execution_count": 9,
     "metadata": {},
     "output_type": "execute_result"
    }
   ],
   "source": [
    "c=[]\n",
    "for i in a:\n",
    "    print(i)\n",
    "    c.append((i[0]))\n",
    "c"
   ]
  },
  {
   "cell_type": "code",
   "execution_count": 16,
   "metadata": {},
   "outputs": [
    {
     "data": {
      "text/plain": [
       "[0.565977513221863,\n",
       " 0.5781566639057747,\n",
       " 0.7520029667806263,\n",
       " 0.48553414988347454,\n",
       " 0.9358938924782823,\n",
       " 0.9198241334788403,\n",
       " 0.16924901808970283]"
      ]
     },
     "execution_count": 16,
     "metadata": {},
     "output_type": "execute_result"
    }
   ],
   "source": [
    "i=0\n",
    "rand=[]\n",
    "import random\n",
    "while i<7:\n",
    "        rand.append(random.random())#random number generation between 0-1\n",
    "        i+=1\n",
    "rand"
   ]
  },
  {
   "cell_type": "code",
   "execution_count": 17,
   "metadata": {},
   "outputs": [
    {
     "data": {
      "text/plain": [
       "1"
      ]
     },
     "execution_count": 17,
     "metadata": {},
     "output_type": "execute_result"
    }
   ],
   "source": [
    "rand1=random.randrange(0,2)\n",
    "rand1"
   ]
  },
  {
   "cell_type": "code",
   "execution_count": 20,
   "metadata": {},
   "outputs": [
    {
     "ename": "TypeError",
     "evalue": "'float' object cannot be interpreted as an integer",
     "output_type": "error",
     "traceback": [
      "\u001b[1;31m---------------------------------------------------------------------------\u001b[0m",
      "\u001b[1;31mTypeError\u001b[0m                                 Traceback (most recent call last)",
      "\u001b[1;32m<ipython-input-20-979bd54dddf3>\u001b[0m in \u001b[0;36m<module>\u001b[1;34m()\u001b[0m\n\u001b[1;32m----> 1\u001b[1;33m \u001b[0mlist\u001b[0m\u001b[1;33m(\u001b[0m\u001b[0mrange\u001b[0m\u001b[1;33m(\u001b[0m\u001b[1;36m0\u001b[0m\u001b[1;33m,\u001b[0m\u001b[1;36m2\u001b[0m\u001b[1;33m,\u001b[0m\u001b[1;36m0.2\u001b[0m\u001b[1;33m)\u001b[0m\u001b[1;33m)\u001b[0m\u001b[1;33m\u001b[0m\u001b[0m\n\u001b[0m",
      "\u001b[1;31mTypeError\u001b[0m: 'float' object cannot be interpreted as an integer"
     ]
    }
   ],
   "source": [
    "list(range(0,2))"
   ]
  },
  {
   "cell_type": "code",
   "execution_count": 22,
   "metadata": {},
   "outputs": [
    {
     "ename": "ValueError",
     "evalue": "not enough values to unpack (expected 2, got 1)",
     "output_type": "error",
     "traceback": [
      "\u001b[1;31m---------------------------------------------------------------------------\u001b[0m",
      "\u001b[1;31mValueError\u001b[0m                                Traceback (most recent call last)",
      "\u001b[1;32m<ipython-input-22-c74704303842>\u001b[0m in \u001b[0;36m<module>\u001b[1;34m()\u001b[0m\n\u001b[1;32m----> 1\u001b[1;33m \u001b[0ma\u001b[0m\u001b[1;33m,\u001b[0m\u001b[0mb\u001b[0m\u001b[1;33m=\u001b[0m\u001b[1;33m[\u001b[0m\u001b[1;33m(\u001b[0m\u001b[1;36m1\u001b[0m\u001b[1;33m,\u001b[0m\u001b[1;36m3\u001b[0m\u001b[1;33m)\u001b[0m\u001b[1;33m,\u001b[0m\u001b[1;33m]\u001b[0m\u001b[1;33m\u001b[0m\u001b[0m\n\u001b[0m\u001b[0;32m      2\u001b[0m \u001b[0ma\u001b[0m\u001b[1;33m,\u001b[0m\u001b[0mb\u001b[0m\u001b[1;33m\u001b[0m\u001b[0m\n",
      "\u001b[1;31mValueError\u001b[0m: not enough values to unpack (expected 2, got 1)"
     ]
    }
   ],
   "source": [
    "a,b=[(1,3)]\n",
    "a,b"
   ]
  },
  {
   "cell_type": "code",
   "execution_count": 19,
   "metadata": {},
   "outputs": [
    {
     "data": {
      "text/plain": [
       "2530"
      ]
     },
     "execution_count": 19,
     "metadata": {},
     "output_type": "execute_result"
    }
   ],
   "source": [
    "42*60+10"
   ]
  },
  {
   "cell_type": "code",
   "execution_count": 24,
   "metadata": {},
   "outputs": [
    {
     "data": {
      "text/plain": [
       "5090"
      ]
     },
     "execution_count": 24,
     "metadata": {},
     "output_type": "execute_result"
    }
   ],
   "source": [
    "3*28*60+50"
   ]
  },
  {
   "cell_type": "code",
   "execution_count": null,
   "metadata": {},
   "outputs": [],
   "source": []
  }
 ],
 "metadata": {
  "kernelspec": {
   "display_name": "Python 3",
   "language": "python",
   "name": "python3"
  },
  "language_info": {
   "codemirror_mode": {
    "name": "ipython",
    "version": 3
   },
   "file_extension": ".py",
   "mimetype": "text/x-python",
   "name": "python",
   "nbconvert_exporter": "python",
   "pygments_lexer": "ipython3",
   "version": "3.6.4"
  }
 },
 "nbformat": 4,
 "nbformat_minor": 2
}
