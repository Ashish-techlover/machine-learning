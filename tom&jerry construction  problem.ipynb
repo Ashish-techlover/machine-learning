{
 "cells": [
  {
   "cell_type": "code",
   "execution_count": 19,
   "metadata": {},
   "outputs": [
    {
     "name": "stdout",
     "output_type": "stream",
     "text": [
      "2\n",
      "6\n",
      "2\n",
      "10\n",
      "[6, 2, 10] \n",
      "\n",
      "2\n",
      "4\n",
      "3\n",
      "10\n",
      "[4, 3, 10] \n",
      "\n",
      "7\n"
     ]
    }
   ],
   "source": [
    "#N=no. of tasks 1<=N<=10000000\n",
    "#C=no. work done in daytime\n",
    "#D=no. of work destroyed in night time 1<=d<c<=N\n",
    "#T=no. of test cases 1<=T<=100\n",
    "# at t=2\n",
    "# sample input1 [6,2,10]\n",
    "# sample input2 [4,3,10]\n",
    "# sample output1 2\n",
    "# sample output2 7\n",
    "t=1\n",
    "T=int(input())\n",
    "while t<=T:\n",
    "    x=[]\n",
    "    for i in range(3):\n",
    "        x.append(int(input()))\n",
    "    print(x,'\\n')\n",
    "    c,d,n=x\n",
    "    j=1\n",
    "    n_days=0\n",
    "    while j<=T and n>d:\n",
    "        n=n-c+d\n",
    "        n_days+=1\n",
    "    print(n_days)\n",
    "    t+=1\n",
    "     \n",
    "      \n",
    "    \n",
    "    "
   ]
  },
  {
   "cell_type": "code",
   "execution_count": null,
   "metadata": {},
   "outputs": [],
   "source": [
    "// Online C compiler to run C program online\n",
    "#include <stdio.h>\n",
    "\n",
    "int T, D[100000],C[100000],N[10000000],X=0,i,n;\n",
    "int main() {\n",
    "    scanf(\"%d\",&T);\n",
    "    for(i=1;i<=T;i++){\n",
    "        scanf(\"%d%d%d\",&C[i],&D[i],&N[i]);\n",
    "    }\n",
    "    for(i=1;i<=T;i++){\n",
    "        X=0;\n",
    "        while(N[i]!=0&&N[i]>=C[i]){\n",
    "            N[i]=N[i]-(C[i]-D[i]);\n",
    "            X=X+1;\n",
    "        }\n",
    "        printf(\"%d \\n\",X);\n",
    "    }\n",
    "    return 0;\n",
    "}"
   ]
  },
  {
   "cell_type": "code",
   "execution_count": 5,
   "metadata": {},
   "outputs": [
    {
     "name": "stdout",
     "output_type": "stream",
     "text": [
      "15\n",
      "1\n",
      "2\n",
      "Fizz\n",
      "4\n",
      "Buzz\n",
      "Fizz\n",
      "7\n",
      "8\n",
      "Fizz\n",
      "Buzz\n",
      "11\n",
      "Fizz\n",
      "13\n",
      "14\n",
      "FizzBuzz\n"
     ]
    }
   ],
   "source": [
    "def fizzBuzz(n):\n",
    "    for i in range(1,n+1):\n",
    "        if i%3!=0 and i%5!=0:\n",
    "            print(i)\n",
    "        elif i%3==0 and i%5==0:\n",
    "            print('FizzBuzz')\n",
    "        elif i%5==0:\n",
    "            print('Buzz')\n",
    "        else:\n",
    "            print('Fizz')\n",
    "\n",
    "if __name__ == '__main__':\n",
    "    n = int(input().strip())\n",
    "\n",
    "    fizzBuzz(n)\n"
   ]
  },
  {
   "cell_type": "code",
   "execution_count": null,
   "metadata": {},
   "outputs": [],
   "source": [
    "\n",
    "    "
   ]
  }
 ],
 "metadata": {
  "kernelspec": {
   "display_name": "Python 3",
   "language": "python",
   "name": "python3"
  },
  "language_info": {
   "codemirror_mode": {
    "name": "ipython",
    "version": 3
   },
   "file_extension": ".py",
   "mimetype": "text/x-python",
   "name": "python",
   "nbconvert_exporter": "python",
   "pygments_lexer": "ipython3",
   "version": "3.6.4"
  }
 },
 "nbformat": 4,
 "nbformat_minor": 2
}
